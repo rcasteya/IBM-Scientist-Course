{
 "cells": [
  {
   "cell_type": "markdown",
   "id": "11c88e5a-2192-4b1d-a80d-3d2fc4a1b16b",
   "metadata": {},
   "source": [
    "# Data Science Tools and Ecosystem"
   ]
  },
  {
   "cell_type": "markdown",
   "id": "86031ac7-d199-4b6a-ba59-06439e1a7381",
   "metadata": {},
   "source": [
    "In this notebook, Data Science Tools and Ecosystem are summarized."
   ]
  },
  {
   "cell_type": "markdown",
   "id": "07f4d847-7499-4e16-87cb-9af007b8c6db",
   "metadata": {},
   "source": [
    "**Objectives:**\n",
    "\n",
    "- Introducing arithmetic expression examples\n",
    "- Data science libraries\n",
    "- Data Science tools\n"
   ]
  },
  {
   "cell_type": "code",
   "execution_count": 8,
   "id": "9da121e2-3116-4bf2-b26a-30adafd612c0",
   "metadata": {},
   "outputs": [
    {
     "data": {
      "text/plain": [
       "3.3333333333333335"
      ]
     },
     "execution_count": 8,
     "metadata": {},
     "output_type": "execute_result"
    }
   ],
   "source": [
    "# This will convert 200 minutes to hours by diving by 60\n",
    "Minutes = 200\n",
    "Hours = Minutes / 60\n",
    "Hours"
   ]
  },
  {
   "cell_type": "markdown",
   "id": "6ea35578-a72a-4906-a5fb-1f7f53936e58",
   "metadata": {},
   "source": [
    "Some of the popular languages that Data Scientists use are:\n",
    "1. Python\n",
    "2. R\n",
    "3. SQL\n",
    "4. Java\n",
    "5. Julia"
   ]
  },
  {
   "cell_type": "markdown",
   "id": "fdacabac-195d-4529-8896-f4f44eaf4e4a",
   "metadata": {},
   "source": [
    "Some of the commonly used libraries used by Data Scientists include:\n",
    "1. NumPy\n",
    "2. Pandas\n",
    "3. TensorFlow"
   ]
  },
  {
   "cell_type": "markdown",
   "id": "1e117f14-be35-4a01-81af-b922042dfba6",
   "metadata": {},
   "source": [
    "| Data Science Tools |\r\n",
    "|---|\r\n",
    "| Jupyter Notebook |\r\n",
    "| RStudio |\r\n",
    "| Apache Spak |\r\n"
   ]
  },
  {
   "cell_type": "markdown",
   "id": "96914fd5-5d8f-4a64-a21c-2b5df926911f",
   "metadata": {},
   "source": [
    "### Below are a few examples of evaluating arithmetic expressions in Python\n"
   ]
  },
  {
   "cell_type": "code",
   "execution_count": 4,
   "id": "68cc02ca-a1d4-4fb0-ab41-57b67f641787",
   "metadata": {},
   "outputs": [
    {
     "data": {
      "text/plain": [
       "17"
      ]
     },
     "execution_count": 4,
     "metadata": {},
     "output_type": "execute_result"
    }
   ],
   "source": [
    "# This is a simple arithmetic expression to multiply then add integers\n",
    "result = (3 * 4) + 5\n",
    "result"
   ]
  },
  {
   "cell_type": "markdown",
   "id": "face5a2c-2cd0-4502-8324-17b8d60bcf60",
   "metadata": {},
   "source": [
    "## Author\n",
    "\n",
    "Rafael Castellanos"
   ]
  }
 ],
 "metadata": {
  "kernelspec": {
   "display_name": "Python 3 (ipykernel)",
   "language": "python",
   "name": "python3"
  },
  "language_info": {
   "codemirror_mode": {
    "name": "ipython",
    "version": 3
   },
   "file_extension": ".py",
   "mimetype": "text/x-python",
   "name": "python",
   "nbconvert_exporter": "python",
   "pygments_lexer": "ipython3",
   "version": "3.12.4"
  }
 },
 "nbformat": 4,
 "nbformat_minor": 5
}
